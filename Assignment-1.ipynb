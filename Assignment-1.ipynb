{
 "cells": [
  {
   "cell_type": "code",
   "execution_count": 7,
   "id": "b51da0de-2b28-4db2-afc6-494943dfe5e6",
   "metadata": {},
   "outputs": [
    {
     "name": "stdout",
     "output_type": "stream",
     "text": [
      "['My name is Ali Shair', [17, 18.5, 'pw skills', True, (4+7j)], 3.14, (14, 15.5, 'This is tupple', [1, 2, 3], (1, 2, 3))]\n"
     ]
    }
   ],
   "source": [
    "\"\"\"Q1. Create one variable containing following type of data:\n",
    "(i) string\n",
    "(ii) list\n",
    "(iii) float\n",
    "(iv) tuple\"\"\"\n",
    "\n",
    "data=[\"My name is Ali Shair\",[17,18.5,\"pw skills\",True, 4+7j],3.14,(14,15.5,\"This is tupple\",[1,2,3],(1,2,3))]\n",
    "print(data)                                                                                            "
   ]
  },
  {
   "cell_type": "code",
   "execution_count": 5,
   "id": "793e237a-d509-4125-a186-5ad2d78a699b",
   "metadata": {},
   "outputs": [],
   "source": [
    "\"\"\"Q2. Given are some following variables containing data:\n",
    "(i) var1 = ‘ ‘ \n",
    "(ii) var2 = ‘[ DS , ML , Python]’\n",
    "(iii) var3 = [ ‘DS’ , ’ML’ , ‘Python’ ]\n",
    "(iv) var4 = 1.\n",
    "What will be the data type of the above given variable.\"\"\"\n",
    "#i)...Data type is string(str) as inverted commas are used\n",
    "#ii)...Data type is str as list is enclosed in innverted commsa\n",
    "#iii)...Data type is list and strings are presnet at each index\n",
    "#iv)... Data type is float as decimal is used\n"
   ]
  },
  {
   "cell_type": "code",
   "execution_count": 6,
   "id": "10afd2b1-6e9c-4123-b6ec-6d9238d49331",
   "metadata": {},
   "outputs": [
    {
     "name": "stdout",
     "output_type": "stream",
     "text": [
      "3.3333333333333335\n",
      "1\n",
      "3\n",
      "8\n"
     ]
    }
   ],
   "source": [
    "\"\"\"Q3. Explain the use of the following operators using an example:\n",
    "(i) /\n",
    "(ii) %\n",
    "(iii) //\n",
    "(iv) **\"\"\"\n",
    "#i)...The / operator performs standard division and returns the result as a floating-point number (even if both operands are integers).\n",
    "result = 10 / 3\n",
    "print(result)  # Output: 3.3333333333333335\n",
    "#ii)....The % operator returns the remainder of the division of the left operand by the right operand.\n",
    "remainder = 10 % 3\n",
    "print(remainder)  # Output: 1\n",
    "#iii)....The // operator performs floor division, which returns the largest integer less than or equal to the quotient. Essentially, it discards the decimal part of the division result.\n",
    "floored_result = 10 // 3\n",
    "print(floored_result)  # Output: 3\n",
    "#iv)...The ** operator is used to raise the left operand to the power of the right operand.\n",
    "power_result = 2 ** 3\n",
    "print(power_result)  # Output: 8\n",
    "\n"
   ]
  },
  {
   "cell_type": "code",
   "execution_count": 10,
   "id": "80b75995-5c23-4671-a710-b76643ff3ca4",
   "metadata": {},
   "outputs": [
    {
     "name": "stdout",
     "output_type": "stream",
     "text": [
      "element: 42 and Data type <class 'int'>\n",
      "element: Hello and Data type <class 'str'>\n",
      "element: 3.14 and Data type <class 'float'>\n",
      "element: True and Data type <class 'bool'>\n",
      "element: [1, 2, 3] and Data type <class 'list'>\n",
      "element: (4, 5) and Data type <class 'tuple'>\n",
      "element: {'key': 'value'} and Data type <class 'dict'>\n",
      "element: None and Data type <class 'NoneType'>\n",
      "element: (5+7j) and Data type <class 'complex'>\n",
      "element: False and Data type <class 'bool'>\n"
     ]
    }
   ],
   "source": [
    "\"\"\"Q4. Create a list of length 10 of your choice containing multiple types of data. Using for loop print the\n",
    "element and its data type.\"\"\"\n",
    "my_list = [42, \"Hello\", 3.14, True, [1, 2, 3], (4, 5), {'key': 'value'}, None, 5+7j,False ]\n",
    "for a in my_list:\n",
    "    print(\"element:\",a,\"and Data type\",type(a))\n",
    "\n",
    "\n"
   ]
  },
  {
   "cell_type": "code",
   "execution_count": 20,
   "id": "8d539c7c-c0cc-4de2-95b5-d2a94bc3735e",
   "metadata": {},
   "outputs": [
    {
     "name": "stdin",
     "output_type": "stream",
     "text": [
      "ENter A 15\n",
      "ENter B 0\n"
     ]
    },
    {
     "name": "stdout",
     "output_type": "stream",
     "text": [
      "The number is not completely divisble\n"
     ]
    }
   ],
   "source": [
    "\"\"\"Q5. Using a while loop, verify if the number A is purely divisible by number B and if so then how many\n",
    "times it can be divisible.\"\"\"\n",
    "\n",
    "A=int(input(\"ENter A\"))\n",
    "B=int(input(\"ENter B\"))\n",
    "while (B!=0 and A%B==0):\n",
    "    print(\"The number A is completely divisible by B\")\n",
    "    print(\"The number of times it is divisible is:\", A//B)\n",
    "    break\n",
    "    \n",
    "else:\n",
    "    print(\"The number is not completely divisble\")     \n"
   ]
  },
  {
   "cell_type": "code",
   "execution_count": 1,
   "id": "b8e66076-60fc-4440-ba7d-c55f85def57f",
   "metadata": {},
   "outputs": [
    {
     "name": "stdout",
     "output_type": "stream",
     "text": [
      "1 is not divisble by 3\n",
      "2 is not divisble by 3\n",
      "3 is divisble by 3\n",
      "4 is not divisble by 3\n",
      "5 is not divisble by 3\n",
      "6 is divisble by 3\n",
      "7 is not divisble by 3\n",
      "8 is not divisble by 3\n",
      "9 is divisble by 3\n",
      "10 is not divisble by 3\n",
      "11 is not divisble by 3\n",
      "12 is divisble by 3\n",
      "13 is not divisble by 3\n",
      "14 is not divisble by 3\n",
      "15 is divisble by 3\n",
      "16 is not divisble by 3\n",
      "17 is not divisble by 3\n",
      "18 is divisble by 3\n",
      "19 is not divisble by 3\n",
      "20 is not divisble by 3\n",
      "21 is divisble by 3\n",
      "22 is not divisble by 3\n",
      "23 is not divisble by 3\n",
      "24 is divisble by 3\n",
      "25 is not divisble by 3\n"
     ]
    }
   ],
   "source": [
    "\"\"\"Q6. Create a list containing 25 int type data. Using for loop and if-else condition print if the element is\n",
    "divisible by 3 or not.\"\"\"\n",
    "\n",
    "\n",
    "a=list(range(1,26))\n",
    "\n",
    "for i in a:\n",
    "    if(i%3==0):\n",
    "     print(i,\"is divisble by 3\")\n",
    "    else:\n",
    "       print(i,\"is not divisble by 3\") \n"
   ]
  },
  {
   "cell_type": "code",
   "execution_count": null,
   "id": "69986749-634f-4b3b-a1c0-7b451788985d",
   "metadata": {},
   "outputs": [],
   "source": [
    "\"\"\"Q7. What do you understand about mutable and immutable data types? Give examples for both showing\n",
    "this property.\"\"\"\n",
    "\n",
    "\"\"\"...Mutable data types can be changed after creation. Examples include lists, dictionaries, and sets.\n",
    "...Immutable data types cannot be changed after creation. Examples include strings, tuples, integers, floats, and booleans.\"\"\"\n",
    "#Mutable Example using List\n",
    "my_list = [1, 2, 3]\n",
    "print(\"Original list:\", my_list)\n",
    "\n",
    "my_list[1] = 10  # Changing the second element\n",
    "print(\"Modified list:\", my_list)\n",
    "\n",
    "#Immutable example using string\n",
    "#...str=\"Ali Shair\"\n",
    "#...str[1]=\"t\" #supposed to change \"l\" to \"t\" but will give error as string is immutable data type\n",
    "\n"
   ]
  }
 ],
 "metadata": {
  "kernelspec": {
   "display_name": "Python 3 (ipykernel)",
   "language": "python",
   "name": "python3"
  },
  "language_info": {
   "codemirror_mode": {
    "name": "ipython",
    "version": 3
   },
   "file_extension": ".py",
   "mimetype": "text/x-python",
   "name": "python",
   "nbconvert_exporter": "python",
   "pygments_lexer": "ipython3",
   "version": "3.10.8"
  }
 },
 "nbformat": 4,
 "nbformat_minor": 5
}
